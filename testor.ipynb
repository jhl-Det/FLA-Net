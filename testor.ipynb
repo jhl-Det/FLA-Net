{
 "cells": [
  {
   "cell_type": "code",
   "execution_count": 1,
   "metadata": {},
   "outputs": [],
   "source": [
    "from Code.utils.video_dataloader import get_video_dataset\n",
    "data = get_video_dataset([354,354], \"/home/zl/Workspace/video_object_seg/GSFM/data/breast_lesion_seg\")\n"
   ]
  },
  {
   "cell_type": "code",
   "execution_count": 10,
   "metadata": {},
   "outputs": [],
   "source": [
    "import torch.nn.functional as F\n",
    "import torch\n",
    "\n",
    "x = torch.rand(10, 10, dtype=torch.complex64)\n",
    "fft2 = torch.fft.fft2(x)\n"
   ]
  },
  {
   "cell_type": "code",
   "execution_count": 14,
   "metadata": {},
   "outputs": [
    {
     "data": {
      "text/plain": [
       "tensor([[0.5089+0.2292j, 0.8068+0.1011j, 0.3025+0.4586j, 0.0917+0.8769j,\n",
       "         0.0937+0.7872j, 0.0489+0.5599j, 0.9724+0.8927j, 0.3394+0.1178j,\n",
       "         0.4557+0.7165j, 0.0161+0.4877j],\n",
       "        [0.7778+0.2602j, 0.1497+0.4614j, 0.9375+0.7560j, 0.8051+0.2314j,\n",
       "         0.3960+0.3031j, 0.7281+0.0814j, 0.6622+0.9754j, 0.4786+0.8736j,\n",
       "         0.2072+0.4422j, 0.2010+0.2940j],\n",
       "        [0.8777+0.8798j, 0.2303+0.5878j, 0.7082+0.3754j, 0.7500+0.1359j,\n",
       "         0.5082+0.9562j, 0.2972+0.9274j, 0.1079+0.6736j, 0.9550+0.8557j,\n",
       "         0.9988+0.3439j, 0.2311+0.5647j],\n",
       "        [0.9801+0.9888j, 0.1661+0.8367j, 0.8786+0.3645j, 0.4308+0.3319j,\n",
       "         0.0910+0.4528j, 0.7363+0.3875j, 0.9662+0.8932j, 0.0725+0.9701j,\n",
       "         0.9426+0.9869j, 0.9145+0.2176j],\n",
       "        [0.1461+0.0884j, 0.3636+0.8971j, 0.9222+0.9713j, 0.0470+0.7919j,\n",
       "         0.9675+0.9684j, 0.9037+0.4305j, 0.6875+0.1180j, 0.5877+0.8050j,\n",
       "         0.5264+0.7244j, 0.5835+0.7561j],\n",
       "        [0.8620+0.2934j, 0.8071+0.9769j, 0.3919+0.0043j, 0.5816+0.2404j,\n",
       "         0.6654+0.0802j, 0.8591+0.9719j, 0.5558+0.2240j, 0.1432+0.3284j,\n",
       "         0.3751+0.2502j, 0.7780+0.6086j],\n",
       "        [0.3602+0.9158j, 0.9884+0.3343j, 0.5987+0.6680j, 0.0929+0.7097j,\n",
       "         0.6341+0.8955j, 0.8377+0.1254j, 0.7793+0.7179j, 0.3585+0.1702j,\n",
       "         0.9476+0.6627j, 0.5188+0.4374j],\n",
       "        [0.9081+0.0384j, 0.9211+0.2987j, 0.4009+0.4005j, 0.4013+0.2427j,\n",
       "         0.8272+0.6560j, 0.9506+0.0138j, 0.6967+0.1274j, 0.4797+0.9145j,\n",
       "         0.8309+0.2175j, 0.9394+0.6061j],\n",
       "        [0.5740+0.5938j, 0.3407+0.1228j, 0.7639+0.8391j, 0.9733+0.8282j,\n",
       "         0.0851+0.8575j, 0.4972+0.9049j, 0.5004+0.4415j, 0.6651+0.1179j,\n",
       "         0.4724+0.2555j, 0.8922+0.5132j],\n",
       "        [0.9650+0.8252j, 0.6469+0.9120j, 0.2922+0.0527j, 0.7676+0.6562j,\n",
       "         0.5702+0.3104j, 0.1266+0.9961j, 0.5432+0.8542j, 0.0534+0.1219j,\n",
       "         0.2710+0.4887j, 0.2970+0.9514j]])"
      ]
     },
     "execution_count": 14,
     "metadata": {},
     "output_type": "execute_result"
    }
   ],
   "source": [
    "x"
   ]
  },
  {
   "cell_type": "code",
   "execution_count": 15,
   "metadata": {},
   "outputs": [
    {
     "data": {
      "text/plain": [
       "tensor([[ 5.3962e+01, -1.3768e+00,  1.8687e-02,  2.4483e+00, -3.5410e+00,\n",
       "          5.9188e-01, -3.4757e-01, -1.7135e+00,  2.4674e+00, -1.3800e+00],\n",
       "        [ 1.6926e+00,  1.3447e-01, -2.0220e+00, -9.6338e-01, -3.5877e+00,\n",
       "         -1.1382e+00, -1.3807e+00,  2.2557e+00,  7.6559e+00, -2.4672e+00],\n",
       "        [-3.0136e+00,  2.3377e-02, -3.3227e+00, -2.8821e+00, -8.2187e-01,\n",
       "         -1.5459e+00, -3.2880e+00, -6.0614e-02,  3.9239e+00,  8.2413e-01],\n",
       "        [-9.7569e-01,  3.2749e+00, -6.2430e+00,  1.4930e+00,  8.5021e-01,\n",
       "          5.2429e+00, -4.0463e+00,  2.4930e+00, -1.8721e+00,  1.3034e+00],\n",
       "        [-2.3940e+00, -1.0657e+00,  6.0544e-01,  2.4164e+00, -3.1515e+00,\n",
       "         -1.4583e+00,  3.7737e+00, -1.2285e+00,  3.2114e+00, -2.6138e+00],\n",
       "        [ 4.4189e+00, -4.5975e-01, -3.0754e+00, -3.0889e+00,  2.4595e+00,\n",
       "          5.1504e+00, -1.0187e+00,  2.5259e+00,  1.2081e+00, -5.1103e+00],\n",
       "        [-3.0432e+00,  5.2182e-01,  2.1267e+00, -3.0191e+00,  2.1664e+00,\n",
       "         -2.1680e+00,  1.3391e+00, -1.0749e+00,  4.2055e-01, -3.2662e+00],\n",
       "        [ 1.3419e+00,  1.4118e+00, -6.4485e+00,  9.2440e-01, -5.2785e+00,\n",
       "          1.5972e+00,  3.1659e+00,  1.0103e+00, -2.3080e+00, -5.9458e+00],\n",
       "        [ 5.1865e-01, -2.9946e+00, -1.4326e+00, -3.8425e+00, -2.8001e+00,\n",
       "         -2.0864e+00,  2.8243e+00, -6.3919e-01,  1.1610e+00,  2.3605e+00],\n",
       "        [-2.3230e-01, -6.7164e+00,  7.0841e-01,  3.6001e+00,  1.0347e+00,\n",
       "          5.2226e+00,  4.1345e+00, -3.4438e+00, -2.0878e+00,  3.8864e-01]])"
      ]
     },
     "execution_count": 15,
     "metadata": {},
     "output_type": "execute_result"
    }
   ],
   "source": [
    "fft2"
   ]
  },
  {
   "cell_type": "code",
   "execution_count": null,
   "metadata": {},
   "outputs": [],
   "source": []
  },
  {
   "cell_type": "code",
   "execution_count": null,
   "metadata": {},
   "outputs": [],
   "source": []
  },
  {
   "cell_type": "code",
   "execution_count": null,
   "metadata": {},
   "outputs": [],
   "source": []
  },
  {
   "cell_type": "code",
   "execution_count": 3,
   "metadata": {},
   "outputs": [
    {
     "data": {
      "text/plain": [
       "torch.Size([5, 3, 354, 354])"
      ]
     },
     "execution_count": 3,
     "metadata": {},
     "output_type": "execute_result"
    }
   ],
   "source": [
    "data[0][0].shape"
   ]
  },
  {
   "cell_type": "code",
   "execution_count": null,
   "metadata": {},
   "outputs": [],
   "source": []
  },
  {
   "cell_type": "code",
   "execution_count": null,
   "metadata": {},
   "outputs": [],
   "source": []
  },
  {
   "cell_type": "code",
   "execution_count": null,
   "metadata": {},
   "outputs": [],
   "source": []
  },
  {
   "cell_type": "code",
   "execution_count": null,
   "metadata": {},
   "outputs": [],
   "source": []
  }
 ],
 "metadata": {
  "kernelspec": {
   "display_name": "base",
   "language": "python",
   "name": "python3"
  },
  "language_info": {
   "codemirror_mode": {
    "name": "ipython",
    "version": 3
   },
   "file_extension": ".py",
   "mimetype": "text/x-python",
   "name": "python",
   "nbconvert_exporter": "python",
   "pygments_lexer": "ipython3",
   "version": "3.8.3"
  },
  "orig_nbformat": 4,
  "vscode": {
   "interpreter": {
    "hash": "3eeabbe996a1f48e08d3b9ea10d408e0decf481162e702205a5e6f2a6210fdb1"
   }
  }
 },
 "nbformat": 4,
 "nbformat_minor": 2
}
